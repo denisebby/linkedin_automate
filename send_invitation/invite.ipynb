{
 "cells": [
  {
   "attachments": {},
   "cell_type": "markdown",
   "metadata": {},
   "source": [
    "# Send invitation to connect"
   ]
  },
  {
   "attachments": {},
   "cell_type": "markdown",
   "metadata": {},
   "source": [
    "Log on to likedin account\n",
    "\n",
    "go to individual pages\n",
    "\n",
    "log on"
   ]
  },
  {
   "attachments": {},
   "cell_type": "markdown",
   "metadata": {},
   "source": [
    "# Load/set params"
   ]
  },
  {
   "cell_type": "code",
   "execution_count": 78,
   "metadata": {},
   "outputs": [
    {
     "data": {
      "text/plain": [
       "True"
      ]
     },
     "execution_count": 78,
     "metadata": {},
     "output_type": "execute_result"
    }
   ],
   "source": [
    "import time\n",
    "\n",
    "import os\n",
    "from dotenv import load_dotenv\n",
    "load_dotenv()"
   ]
  },
  {
   "cell_type": "code",
   "execution_count": 9,
   "metadata": {},
   "outputs": [],
   "source": [
    "# either use .env or manually set params here and be careful not to push your credentials\n",
    "USERNAME = os.getenv(\"USERNAME\", \"\")\n",
    "PASSWORD = os.getenv(\"PASSWORD\", \"\")"
   ]
  },
  {
   "cell_type": "code",
   "execution_count": 1,
   "metadata": {},
   "outputs": [],
   "source": [
    "from selenium import webdriver "
   ]
  },
  {
   "cell_type": "code",
   "execution_count": 2,
   "metadata": {},
   "outputs": [
    {
     "ename": "InvalidArgumentException",
     "evalue": "Message: invalid argument\n  (Session info: chrome=112.0.5615.137)\nStacktrace:\n0   chromedriver                        0x0000000100abdae8 chromedriver + 4958952\n1   chromedriver                        0x0000000100ab57b3 chromedriver + 4925363\n2   chromedriver                        0x0000000100677051 chromedriver + 475217\n3   chromedriver                        0x000000010065fd24 chromedriver + 380196\n4   chromedriver                        0x000000010065da2d chromedriver + 371245\n5   chromedriver                        0x000000010065dbdd chromedriver + 371677\n6   chromedriver                        0x00000001006794c6 chromedriver + 484550\n7   chromedriver                        0x00000001006fc8c1 chromedriver + 1022145\n8   chromedriver                        0x00000001006e0c12 chromedriver + 908306\n9   chromedriver                        0x00000001006fc25b chromedriver + 1020507\n10  chromedriver                        0x00000001006e09e3 chromedriver + 907747\n11  chromedriver                        0x00000001006aaaef chromedriver + 686831\n12  chromedriver                        0x00000001006ac00e chromedriver + 692238\n13  chromedriver                        0x0000000100a799ad chromedriver + 4680109\n14  chromedriver                        0x0000000100a7ec12 chromedriver + 4701202\n15  chromedriver                        0x0000000100a8579f chromedriver + 4728735\n16  chromedriver                        0x0000000100a7fb7a chromedriver + 4705146\n17  chromedriver                        0x0000000100a5227e chromedriver + 4518526\n18  chromedriver                        0x0000000100a9f908 chromedriver + 4835592\n19  chromedriver                        0x0000000100a9fa87 chromedriver + 4835975\n20  chromedriver                        0x0000000100aaf00f chromedriver + 4898831\n21  libsystem_pthread.dylib             0x00007ff8169954e1 _pthread_start + 125\n22  libsystem_pthread.dylib             0x00007ff816990f6b thread_start + 15\n",
     "output_type": "error",
     "traceback": [
      "\u001b[0;31m---------------------------------------------------------------------------\u001b[0m",
      "\u001b[0;31mInvalidArgumentException\u001b[0m                  Traceback (most recent call last)",
      "Cell \u001b[0;32mIn[2], line 3\u001b[0m\n\u001b[1;32m      1\u001b[0m driver \u001b[39m=\u001b[39m webdriver\u001b[39m.\u001b[39mChrome()\n\u001b[0;32m----> 3\u001b[0m driver\u001b[39m.\u001b[39;49mget(\u001b[39m\"\u001b[39;49m\u001b[39mlinkedin.com\u001b[39;49m\u001b[39m\"\u001b[39;49m)\n",
      "File \u001b[0;32m~/.pyenv/versions/3.10.3/envs/pl_dev_1/lib/python3.10/site-packages/selenium/webdriver/remote/webdriver.py:449\u001b[0m, in \u001b[0;36mWebDriver.get\u001b[0;34m(self, url)\u001b[0m\n\u001b[1;32m    447\u001b[0m \u001b[39mdef\u001b[39;00m \u001b[39mget\u001b[39m(\u001b[39mself\u001b[39m, url: \u001b[39mstr\u001b[39m) \u001b[39m-\u001b[39m\u001b[39m>\u001b[39m \u001b[39mNone\u001b[39;00m:\n\u001b[1;32m    448\u001b[0m \u001b[39m    \u001b[39m\u001b[39m\"\"\"Loads a web page in the current browser session.\"\"\"\u001b[39;00m\n\u001b[0;32m--> 449\u001b[0m     \u001b[39mself\u001b[39;49m\u001b[39m.\u001b[39;49mexecute(Command\u001b[39m.\u001b[39;49mGET, {\u001b[39m\"\u001b[39;49m\u001b[39murl\u001b[39;49m\u001b[39m\"\u001b[39;49m: url})\n",
      "File \u001b[0;32m~/.pyenv/versions/3.10.3/envs/pl_dev_1/lib/python3.10/site-packages/selenium/webdriver/remote/webdriver.py:440\u001b[0m, in \u001b[0;36mWebDriver.execute\u001b[0;34m(self, driver_command, params)\u001b[0m\n\u001b[1;32m    438\u001b[0m response \u001b[39m=\u001b[39m \u001b[39mself\u001b[39m\u001b[39m.\u001b[39mcommand_executor\u001b[39m.\u001b[39mexecute(driver_command, params)\n\u001b[1;32m    439\u001b[0m \u001b[39mif\u001b[39;00m response:\n\u001b[0;32m--> 440\u001b[0m     \u001b[39mself\u001b[39;49m\u001b[39m.\u001b[39;49merror_handler\u001b[39m.\u001b[39;49mcheck_response(response)\n\u001b[1;32m    441\u001b[0m     response[\u001b[39m\"\u001b[39m\u001b[39mvalue\u001b[39m\u001b[39m\"\u001b[39m] \u001b[39m=\u001b[39m \u001b[39mself\u001b[39m\u001b[39m.\u001b[39m_unwrap_value(response\u001b[39m.\u001b[39mget(\u001b[39m\"\u001b[39m\u001b[39mvalue\u001b[39m\u001b[39m\"\u001b[39m, \u001b[39mNone\u001b[39;00m))\n\u001b[1;32m    442\u001b[0m     \u001b[39mreturn\u001b[39;00m response\n",
      "File \u001b[0;32m~/.pyenv/versions/3.10.3/envs/pl_dev_1/lib/python3.10/site-packages/selenium/webdriver/remote/errorhandler.py:245\u001b[0m, in \u001b[0;36mErrorHandler.check_response\u001b[0;34m(self, response)\u001b[0m\n\u001b[1;32m    243\u001b[0m         alert_text \u001b[39m=\u001b[39m value[\u001b[39m\"\u001b[39m\u001b[39malert\u001b[39m\u001b[39m\"\u001b[39m]\u001b[39m.\u001b[39mget(\u001b[39m\"\u001b[39m\u001b[39mtext\u001b[39m\u001b[39m\"\u001b[39m)\n\u001b[1;32m    244\u001b[0m     \u001b[39mraise\u001b[39;00m exception_class(message, screen, stacktrace, alert_text)  \u001b[39m# type: ignore[call-arg]  # mypy is not smart enough here\u001b[39;00m\n\u001b[0;32m--> 245\u001b[0m \u001b[39mraise\u001b[39;00m exception_class(message, screen, stacktrace)\n",
      "\u001b[0;31mInvalidArgumentException\u001b[0m: Message: invalid argument\n  (Session info: chrome=112.0.5615.137)\nStacktrace:\n0   chromedriver                        0x0000000100abdae8 chromedriver + 4958952\n1   chromedriver                        0x0000000100ab57b3 chromedriver + 4925363\n2   chromedriver                        0x0000000100677051 chromedriver + 475217\n3   chromedriver                        0x000000010065fd24 chromedriver + 380196\n4   chromedriver                        0x000000010065da2d chromedriver + 371245\n5   chromedriver                        0x000000010065dbdd chromedriver + 371677\n6   chromedriver                        0x00000001006794c6 chromedriver + 484550\n7   chromedriver                        0x00000001006fc8c1 chromedriver + 1022145\n8   chromedriver                        0x00000001006e0c12 chromedriver + 908306\n9   chromedriver                        0x00000001006fc25b chromedriver + 1020507\n10  chromedriver                        0x00000001006e09e3 chromedriver + 907747\n11  chromedriver                        0x00000001006aaaef chromedriver + 686831\n12  chromedriver                        0x00000001006ac00e chromedriver + 692238\n13  chromedriver                        0x0000000100a799ad chromedriver + 4680109\n14  chromedriver                        0x0000000100a7ec12 chromedriver + 4701202\n15  chromedriver                        0x0000000100a8579f chromedriver + 4728735\n16  chromedriver                        0x0000000100a7fb7a chromedriver + 4705146\n17  chromedriver                        0x0000000100a5227e chromedriver + 4518526\n18  chromedriver                        0x0000000100a9f908 chromedriver + 4835592\n19  chromedriver                        0x0000000100a9fa87 chromedriver + 4835975\n20  chromedriver                        0x0000000100aaf00f chromedriver + 4898831\n21  libsystem_pthread.dylib             0x00007ff8169954e1 _pthread_start + 125\n22  libsystem_pthread.dylib             0x00007ff816990f6b thread_start + 15\n"
     ]
    }
   ],
   "source": [
    "driver = webdriver.Chrome()"
   ]
  },
  {
   "cell_type": "code",
   "execution_count": 3,
   "metadata": {},
   "outputs": [],
   "source": [
    "driver.get(\"https://www.linkedin.com/home\")"
   ]
  },
  {
   "cell_type": "code",
   "execution_count": 11,
   "metadata": {},
   "outputs": [],
   "source": [
    "def login(driver):\n",
    "\n",
    "\t# Set username\n",
    "\tusername = driver.find_element('xpath', '//input[@id=\"session_key\"]')\n",
    "\tusername.send_keys(USERNAME)\n",
    "\n",
    "\ttime.sleep(1)\n",
    "\n",
    "\t# Set password\n",
    "\tpassword = driver.find_element('xpath', '//input[@id=\"session_password\"]')\n",
    "\tpassword.send_keys(PASSWORD)\t\t\t\t\n",
    "\n",
    "\ttime.sleep(1)\n",
    "\n",
    "\t# Log on\n",
    "\tthe_xpath = '//button[@data-id=\"sign-in-form__submit-btn\"]'\n",
    "\tlogin_button = driver.find_element('xpath', the_xpath)\n",
    "\tlogin_button.click()"
   ]
  },
  {
   "cell_type": "code",
   "execution_count": 82,
   "metadata": {},
   "outputs": [],
   "source": [
    "def connect(driver, person_profile_page: str):\n",
    "    \"\"\"\n",
    "    Description: Attempt to connect on linkedin. Return the page if not successful.\n",
    "    \"\"\"\n",
    "    # connection button on the main actions list\n",
    "    driver.get(person_profile_page)\n",
    "    time.sleep(2)\n",
    "    try:\n",
    "        # connect\n",
    "        connect_button = driver.find_element('xpath', '//div[@class=\"pv-top-card-v2-ctas \"]//button/span[text()=\"Connect\"]')\n",
    "        connect_button.click()\n",
    "\n",
    "        time.sleep(2)\n",
    "\n",
    "        # send connection\n",
    "\n",
    "        send_connection_button = driver.find_element('xpath', '//div[@class=\"artdeco-modal__actionbar ember-view text-align-right\"]//button/span[text()=\"Send\"]')\n",
    "        send_connection_button.click()\n",
    "        print(f\"Sent connection to {person_profile_page} through main connect button\")\n",
    "    except Exception as e:\n",
    "        try:\n",
    "            # reset to person's page\n",
    "            driver.get(person_profile_page)\n",
    "            time.sleep(2)\n",
    "\n",
    "            # assume connection button is hidden away\n",
    "            more_button = driver.find_element('xpath', '//div[@class=\"pv-top-card-v2-ctas \"]//button/span[text()=\"More\"]')\n",
    "            more_button.click()\n",
    "            \n",
    "            time.sleep(2)\n",
    "\n",
    "            connect_within_more_button = driver.find_element('xpath', '//div[@class=\"pv-top-card-v2-ctas \"]//div//span[text()=\"Connect\"]')\n",
    "            connect_within_more_button.click()\n",
    "\n",
    "            time.sleep(2)\n",
    "\n",
    "            send_connection_button = driver.find_element('xpath', '//div[@class=\"artdeco-modal__actionbar ember-view text-align-right\"]//button/span[text()=\"Send\"]')\n",
    "            send_connection_button.click()\n",
    "\n",
    "            # may ask for additional steps, not sure\n",
    "            \n",
    "            print(f\"Sent connection to {person_profile_page} through connect button hidden in 'more' button\")\n",
    "            \n",
    "        except Exception as e2:\n",
    "            print(e2)\n",
    "            return person_profile_page\n",
    "    \n",
    "    return"
   ]
  },
  {
   "cell_type": "code",
   "execution_count": 12,
   "metadata": {},
   "outputs": [
    {
     "ename": "AttributeError",
     "evalue": "'WebDriver' object has no attribute 'find_element_by_id'",
     "output_type": "error",
     "traceback": [
      "\u001b[0;31m---------------------------------------------------------------------------\u001b[0m",
      "\u001b[0;31mAttributeError\u001b[0m                            Traceback (most recent call last)",
      "Cell \u001b[0;32mIn[12], line 1\u001b[0m\n\u001b[0;32m----> 1\u001b[0m login(driver)\n",
      "Cell \u001b[0;32mIn[11], line 4\u001b[0m, in \u001b[0;36mlogin\u001b[0;34m(driver)\u001b[0m\n\u001b[1;32m      1\u001b[0m \u001b[39mdef\u001b[39;00m \u001b[39mlogin\u001b[39m(driver):\n\u001b[1;32m      2\u001b[0m \n\u001b[1;32m      3\u001b[0m \t\u001b[39m# Getting the login element\u001b[39;00m\n\u001b[0;32m----> 4\u001b[0m \tusername \u001b[39m=\u001b[39m driver\u001b[39m.\u001b[39;49mfind_element_by_id(\u001b[39m\"\u001b[39m\u001b[39mlogin-email\u001b[39m\u001b[39m\"\u001b[39m)\n\u001b[1;32m      6\u001b[0m \t\u001b[39m# Sending the keys for username\t\u001b[39;00m\n\u001b[1;32m      7\u001b[0m \tusername\u001b[39m.\u001b[39msend_keys(USERNAME)\n",
      "\u001b[0;31mAttributeError\u001b[0m: 'WebDriver' object has no attribute 'find_element_by_id'"
     ]
    }
   ],
   "source": [
    "login(driver)"
   ]
  },
  {
   "cell_type": "code",
   "execution_count": 79,
   "metadata": {},
   "outputs": [
    {
     "name": "stdout",
     "output_type": "stream",
     "text": [
      "Sent connection to https://www.linkedin.com/in/sarahflynn/ through main connect button\n"
     ]
    }
   ],
   "source": [
    "connect(driver, person_profile_page=\"https://www.linkedin.com/in/sarahflynn/\")"
   ]
  },
  {
   "cell_type": "code",
   "execution_count": 83,
   "metadata": {},
   "outputs": [
    {
     "name": "stdout",
     "output_type": "stream",
     "text": [
      "Sent connection to https://www.linkedin.com/in/barry-parasram-b14b0a4/ through connect button hidden in 'more' button\n"
     ]
    }
   ],
   "source": [
    "connect(driver, person_profile_page=\"https://www.linkedin.com/in/barry-parasram-b14b0a4/\")"
   ]
  },
  {
   "attachments": {},
   "cell_type": "markdown",
   "metadata": {},
   "source": [
    "# Put data in data file"
   ]
  },
  {
   "cell_type": "code",
   "execution_count": 84,
   "metadata": {},
   "outputs": [],
   "source": [
    "import pandas as pd"
   ]
  },
  {
   "cell_type": "code",
   "execution_count": 85,
   "metadata": {},
   "outputs": [],
   "source": [
    "invite_list = [\"https://www.linkedin.com/in/jose-mena-nyc/\", \"https://www.linkedin.com/in/rachel-fleitell-8a33342b/\"]\n",
    "invite_df = pd.DataFrame(invite_list, columns=[\"profile_pages\"])\n",
    "invite_df.to_csv(\"data/invite_df.csv\", index=False)"
   ]
  },
  {
   "cell_type": "code",
   "execution_count": 93,
   "metadata": {},
   "outputs": [],
   "source": [
    "invite_df = pd.read_csv(\"data/invite_df.csv\")"
   ]
  },
  {
   "cell_type": "code",
   "execution_count": 94,
   "metadata": {},
   "outputs": [
    {
     "data": {
      "text/html": [
       "<div>\n",
       "<style scoped>\n",
       "    .dataframe tbody tr th:only-of-type {\n",
       "        vertical-align: middle;\n",
       "    }\n",
       "\n",
       "    .dataframe tbody tr th {\n",
       "        vertical-align: top;\n",
       "    }\n",
       "\n",
       "    .dataframe thead th {\n",
       "        text-align: right;\n",
       "    }\n",
       "</style>\n",
       "<table border=\"1\" class=\"dataframe\">\n",
       "  <thead>\n",
       "    <tr style=\"text-align: right;\">\n",
       "      <th></th>\n",
       "      <th>profile_pages</th>\n",
       "    </tr>\n",
       "  </thead>\n",
       "  <tbody>\n",
       "    <tr>\n",
       "      <th>0</th>\n",
       "      <td>https://www.linkedin.com/in/samin-odhwani-0a17...</td>\n",
       "    </tr>\n",
       "  </tbody>\n",
       "</table>\n",
       "</div>"
      ],
      "text/plain": [
       "                                       profile_pages\n",
       "0  https://www.linkedin.com/in/samin-odhwani-0a17..."
      ]
     },
     "execution_count": 94,
     "metadata": {},
     "output_type": "execute_result"
    }
   ],
   "source": [
    "invite_df"
   ]
  },
  {
   "cell_type": "code",
   "execution_count": 92,
   "metadata": {},
   "outputs": [],
   "source": [
    "pd.DataFrame([], columns=[\"profile_pages\"]).to_csv(\"data/not_invited_df.csv\", index=False)"
   ]
  },
  {
   "cell_type": "code",
   "execution_count": 88,
   "metadata": {},
   "outputs": [
    {
     "name": "stdout",
     "output_type": "stream",
     "text": [
      "https://www.linkedin.com/in/jose-mena-nyc/\n",
      "https://www.linkedin.com/in/rachel-fleitell-8a33342b/\n"
     ]
    }
   ],
   "source": [
    "for page in invite_df.profile_pages:\n",
    "    print(page)"
   ]
  },
  {
   "cell_type": "code",
   "execution_count": 91,
   "metadata": {},
   "outputs": [
    {
     "name": "stdout",
     "output_type": "stream",
     "text": [
      "s\n"
     ]
    }
   ],
   "source": [
    "res = \"s\"\n",
    "if res:\n",
    "    print(res)"
   ]
  },
  {
   "cell_type": "code",
   "execution_count": 98,
   "metadata": {},
   "outputs": [
    {
     "data": {
      "text/plain": [
       "'4.8.2'"
      ]
     },
     "execution_count": 98,
     "metadata": {},
     "output_type": "execute_result"
    }
   ],
   "source": [
    "import selenium\n",
    "selenium.__version__"
   ]
  }
 ],
 "metadata": {
  "kernelspec": {
   "display_name": "pl_dev_1",
   "language": "python",
   "name": "python3"
  },
  "language_info": {
   "codemirror_mode": {
    "name": "ipython",
    "version": 3
   },
   "file_extension": ".py",
   "mimetype": "text/x-python",
   "name": "python",
   "nbconvert_exporter": "python",
   "pygments_lexer": "ipython3",
   "version": "3.10.3"
  },
  "orig_nbformat": 4,
  "vscode": {
   "interpreter": {
    "hash": "9242012419c520fb2a40a2aa0ff70c7f091a54e2be81984ec7393bd241ebc50c"
   }
  }
 },
 "nbformat": 4,
 "nbformat_minor": 2
}
